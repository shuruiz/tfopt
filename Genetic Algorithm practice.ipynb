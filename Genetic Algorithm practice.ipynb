{
 "cells": [
  {
   "cell_type": "markdown",
   "metadata": {},
   "source": [
    "### Import the module"
   ]
  },
  {
   "cell_type": "code",
   "execution_count": 1,
   "metadata": {},
   "outputs": [],
   "source": [
    "from pyeasyga import pyeasyga"
   ]
  },
  {
   "cell_type": "markdown",
   "metadata": {},
   "source": [
    "### Create some data"
   ]
  },
  {
   "cell_type": "code",
   "execution_count": 2,
   "metadata": {},
   "outputs": [],
   "source": [
    "data = [('pear', 50), ('apple', 35), ('banana', 40)]"
   ]
  },
  {
   "cell_type": "markdown",
   "metadata": {},
   "source": [
    "### Initialize the `GeneticAlgorithm` class with the only required parameter: `data`"
   ]
  },
  {
   "cell_type": "code",
   "execution_count": 3,
   "metadata": {},
   "outputs": [],
   "source": [
    "ga = pyeasyga.GeneticAlgorithm(data)"
   ]
  },
  {
   "cell_type": "markdown",
   "metadata": {},
   "source": [
    "### Define a fitness function for the Genetic Algorithm. The function should take two parameters: a _candidate soultion_ (an `individual` in GA speak), and the `data` that is used to help determine the individual’s fitness"
   ]
  },
  {
   "cell_type": "code",
   "execution_count": 12,
   "metadata": {},
   "outputs": [],
   "source": [
    "def fitness (individual, data):\n",
    "    fitness = 0\n",
    "    if individual.count(1) == 2:\n",
    "        for (selected, (fruit, profit)) in zip(individual, data):\n",
    "            if selected:\n",
    "                fitness += profit\n",
    "    return fitness"
   ]
  },
  {
   "cell_type": "markdown",
   "metadata": {},
   "source": [
    "### Set the Genetic Algorithm’s `fitness_function` attribute to your defined `fitness` function"
   ]
  },
  {
   "cell_type": "code",
   "execution_count": 13,
   "metadata": {},
   "outputs": [],
   "source": [
    "ga.fitness_function = fitness"
   ]
  },
  {
   "cell_type": "markdown",
   "metadata": {},
   "source": [
    "### Run the genetic algorithm!"
   ]
  },
  {
   "cell_type": "code",
   "execution_count": 14,
   "metadata": {},
   "outputs": [],
   "source": [
    "ga.run()"
   ]
  },
  {
   "cell_type": "markdown",
   "metadata": {},
   "source": [
    "### Print the best solution"
   ]
  },
  {
   "cell_type": "code",
   "execution_count": 15,
   "metadata": {},
   "outputs": [
    {
     "name": "stdout",
     "output_type": "stream",
     "text": [
      "(90, [1, 0, 1])\n"
     ]
    }
   ],
   "source": [
    "print (ga.best_individual())"
   ]
  },
  {
   "cell_type": "markdown",
   "metadata": {},
   "source": [
    "## 1-dimensional knpasack problem"
   ]
  },
  {
   "cell_type": "code",
   "execution_count": 18,
   "metadata": {},
   "outputs": [
    {
     "name": "stdout",
     "output_type": "stream",
     "text": [
      "(19, [1, 1, 1, 1, 1])\n"
     ]
    }
   ],
   "source": [
    "# setup data\n",
    "data = [{'name': 'box1', 'value': 4, 'weight': 7},\n",
    "        {'name': 'box2', 'value': 2, 'weight': 1},\n",
    "        {'name': 'box3', 'value': 10, 'weight': 4},\n",
    "        {'name': 'box4', 'value': 1, 'weight': 1},\n",
    "        {'name': 'box5', 'value': 2, 'weight': 2}]\n",
    "\n",
    "ga = pyeasyga.GeneticAlgorithm(data)        # initialise the GA with data\n",
    "\n",
    "# define a fitness function\n",
    "def fitness(individual, data):\n",
    "    values, weights = 0, 0\n",
    "    for selected, box in zip(individual, data):\n",
    "        if selected:\n",
    "            values += box.get('value')\n",
    "            weights += box.get('weight')\n",
    "    if weights > 15:\n",
    "        values = 0\n",
    "    return values\n",
    "\n",
    "ga.fitness_function = fitness               # set the GA's fitness function\n",
    "ga.run()                                    # run the GA\n",
    "print (ga.best_individual())                  # print the GA's best solution"
   ]
  },
  {
   "cell_type": "code",
   "execution_count": null,
   "metadata": {},
   "outputs": [],
   "source": []
  }
 ],
 "metadata": {
  "kernelspec": {
   "display_name": "Python 3",
   "language": "python",
   "name": "python3"
  },
  "language_info": {
   "codemirror_mode": {
    "name": "ipython",
    "version": 3
   },
   "file_extension": ".py",
   "mimetype": "text/x-python",
   "name": "python",
   "nbconvert_exporter": "python",
   "pygments_lexer": "ipython3",
   "version": "3.6.5"
  },
  "latex_envs": {
   "LaTeX_envs_menu_present": true,
   "autoclose": false,
   "autocomplete": true,
   "bibliofile": "biblio.bib",
   "cite_by": "apalike",
   "current_citInitial": 1,
   "eqLabelWithNumbers": true,
   "eqNumInitial": 1,
   "hotkeys": {
    "equation": "Ctrl-E",
    "itemize": "Ctrl-I"
   },
   "labels_anchors": false,
   "latex_user_defs": false,
   "report_style_numbering": false,
   "user_envs_cfg": false
  }
 },
 "nbformat": 4,
 "nbformat_minor": 2
}
