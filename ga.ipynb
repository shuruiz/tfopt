{
 "cells": [
  {
   "cell_type": "code",
   "execution_count": 7,
   "metadata": {},
   "outputs": [],
   "source": [
    "import numpy as np \n",
    "import random \n",
    "from network import Network\n",
    "\n",
    "def _create_population(size=100):\n",
    "\t\"\"\"\n",
    "\tsize: population size, number of chromesomes \n",
    "\n",
    "\treturn population, which is a list of random created network graphs\n",
    "\t\"\"\"\n",
    "\tpopulation = []\n",
    "\tfor _ in range(size):\n",
    "\t\tnn = Network()\n",
    "\t\tnn.random_initialize() #  shape \n",
    "\t\tpopulation .append(nn)\n",
    "\treturn population\n",
    "\n",
    "\n",
    "\n",
    "def GeneticAlgorithmTrainner():\n",
    "\tpop = _create_population()\n",
    "\n",
    "\n",
    "def fitness(nn, X):\n",
    "\t## 1/ cross_entropy \n",
    "\tW = nn.getWeights()\n",
    "\tb = nn.getBias()\n",
    "\tn_layer = len(W)"
   ]
  },
  {
   "cell_type": "code",
   "execution_count": 32,
   "metadata": {},
   "outputs": [
    {
     "name": "stdout",
     "output_type": "stream",
     "text": [
      "[[14.46   14.35    0.8818 ...  2.802   5.044   1.    ]\n",
      " [11.23   12.88    0.8511 ...  4.325   5.003   3.    ]\n",
      " [19.51   16.71    0.878  ...  2.962   6.185   2.    ]\n",
      " ...\n",
      " [12.19   13.2     0.8783 ...  3.631   4.87    3.    ]\n",
      " [14.79   14.52    0.8819 ...  2.704   5.111   1.    ]\n",
      " [14.43   14.4     0.8751 ...  3.975   5.144   1.    ]]\n"
     ]
    }
   ],
   "source": [
    "#load data below\n",
    "\n",
    "with open('seeds_dataset.txt', 'r') as f:\n",
    "    x = f.readlines()\n",
    "data=[]\n",
    "\n",
    "for line in x:\n",
    "    temp=[]\n",
    "    temp.append(line.strip().split())\n",
    "    l = []\n",
    "    \n",
    "    for ele in temp[0]:\n",
    "        l.append(float(ele))\n",
    "    data.append(l)\n",
    "#     print(l)\n",
    "data = np.array(data)\n",
    "np.random.shuffle(data)\n",
    "print(data)"
   ]
  },
  {
   "cell_type": "code",
   "execution_count": 40,
   "metadata": {},
   "outputs": [
    {
     "name": "stdout",
     "output_type": "stream",
     "text": [
      "(168, 7)\n",
      "(1, 42)\n"
     ]
    }
   ],
   "source": [
    "train_X = []\n",
    "train_y = []\n",
    "test_X=[]\n",
    "test_y=[]\n",
    "len_data = len(data)\n",
    "train_data = data[:int(len_data*0.8)]\n",
    "test_data = data[int(len_data*0.8):]\n",
    "train_X = np.array(train_data[:, [column for column in range(len(train_data[0])-1)]])\n",
    "test_X  = np.array(test_data[:, [column for column in range(len(train_data[0])-1)]])\n",
    "train_y = np.array([train_data[:,len(train_data[0])-1 ]])\n",
    "test_y = np.array([test_data[:,len(train_data[0])-1 ]])\n",
    "\n",
    "print(train_X.shape)\n",
    "print(test_y.shape)"
   ]
  },
  {
   "cell_type": "code",
   "execution_count": null,
   "metadata": {},
   "outputs": [],
   "source": []
  }
 ],
 "metadata": {
  "kernelspec": {
   "display_name": "Python 3",
   "language": "python",
   "name": "python3"
  },
  "language_info": {
   "codemirror_mode": {
    "name": "ipython",
    "version": 3
   },
   "file_extension": ".py",
   "mimetype": "text/x-python",
   "name": "python",
   "nbconvert_exporter": "python",
   "pygments_lexer": "ipython3",
   "version": "3.6.5"
  }
 },
 "nbformat": 4,
 "nbformat_minor": 2
}
